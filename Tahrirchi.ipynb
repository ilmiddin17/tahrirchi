{
 "cells": [
  {
   "cell_type": "code",
   "execution_count": 38,
   "id": "7c8be780",
   "metadata": {},
   "outputs": [],
   "source": [
    "import pandas as pd\n",
    "import numpy as np\n",
    "from sklearn.pipeline import Pipeline\n",
    "from sklearn.preprocessing import FunctionTransformer\n",
    "import re"
   ]
  },
  {
   "cell_type": "code",
   "execution_count": 39,
   "id": "d6994d3d",
   "metadata": {},
   "outputs": [],
   "source": [
    "data = pd.read_csv(\"D:python/tahrirchi/tahrirchi/data.csv\")"
   ]
  },
  {
   "cell_type": "code",
   "execution_count": 56,
   "id": "931b3e34",
   "metadata": {},
   "outputs": [
    {
     "data": {
      "text/html": [
       "<div>\n",
       "<style scoped>\n",
       "    .dataframe tbody tr th:only-of-type {\n",
       "        vertical-align: middle;\n",
       "    }\n",
       "\n",
       "    .dataframe tbody tr th {\n",
       "        vertical-align: top;\n",
       "    }\n",
       "\n",
       "    .dataframe thead th {\n",
       "        text-align: right;\n",
       "    }\n",
       "</style>\n",
       "<table border=\"1\" class=\"dataframe\">\n",
       "  <thead>\n",
       "    <tr style=\"text-align: right;\">\n",
       "      <th></th>\n",
       "      <th>source_url</th>\n",
       "      <th>access_datetime</th>\n",
       "      <th>content</th>\n",
       "    </tr>\n",
       "  </thead>\n",
       "  <tbody>\n",
       "    <tr>\n",
       "      <th>0</th>\n",
       "      <td>https://kun.uz/uz/news/2022/12/01/oz-joniga-qa...</td>\n",
       "      <td>2022-12-01 20:13:46.283372</td>\n",
       "      <td>O‘zbekiston musulmonlari idorasi raisining bir...</td>\n",
       "    </tr>\n",
       "    <tr>\n",
       "      <th>1</th>\n",
       "      <td>https://kun.uz/uz/news/2022/12/01/kocha-qonunl...</td>\n",
       "      <td>2022-12-01 20:13:47.683332</td>\n",
       "      <td>Yaqinda Namangan shahridagi “Mulla qirg‘iz” ma...</td>\n",
       "    </tr>\n",
       "    <tr>\n",
       "      <th>2</th>\n",
       "      <td>https://kun.uz/uz/news/2022/12/01/sudlanayotga...</td>\n",
       "      <td>2022-12-01 20:13:49.090811</td>\n",
       "      <td>«Huquqiy tayanch» birlashmasi rahbari A’zam Fa...</td>\n",
       "    </tr>\n",
       "    <tr>\n",
       "      <th>3</th>\n",
       "      <td>https://kun.uz/uz/news/2022/11/30/ozekspomarka...</td>\n",
       "      <td>2022-12-01 20:13:50.487216</td>\n",
       "      <td>Bugun O‘zekspomarkazda O‘zbekiston Respublikas...</td>\n",
       "    </tr>\n",
       "    <tr>\n",
       "      <th>4</th>\n",
       "      <td>https://kun.uz/uz/news/2022/11/30/turonbank-ha...</td>\n",
       "      <td>2022-12-01 20:13:51.970941</td>\n",
       "      <td>O‘lkamizda iqlim sharoitlari o‘zgarib, sovuq k...</td>\n",
       "    </tr>\n",
       "  </tbody>\n",
       "</table>\n",
       "</div>"
      ],
      "text/plain": [
       "                                          source_url  \\\n",
       "0  https://kun.uz/uz/news/2022/12/01/oz-joniga-qa...   \n",
       "1  https://kun.uz/uz/news/2022/12/01/kocha-qonunl...   \n",
       "2  https://kun.uz/uz/news/2022/12/01/sudlanayotga...   \n",
       "3  https://kun.uz/uz/news/2022/11/30/ozekspomarka...   \n",
       "4  https://kun.uz/uz/news/2022/11/30/turonbank-ha...   \n",
       "\n",
       "              access_datetime  \\\n",
       "0  2022-12-01 20:13:46.283372   \n",
       "1  2022-12-01 20:13:47.683332   \n",
       "2  2022-12-01 20:13:49.090811   \n",
       "3  2022-12-01 20:13:50.487216   \n",
       "4  2022-12-01 20:13:51.970941   \n",
       "\n",
       "                                             content  \n",
       "0  O‘zbekiston musulmonlari idorasi raisining bir...  \n",
       "1  Yaqinda Namangan shahridagi “Mulla qirg‘iz” ma...  \n",
       "2  «Huquqiy tayanch» birlashmasi rahbari A’zam Fa...  \n",
       "3  Bugun O‘zekspomarkazda O‘zbekiston Respublikas...  \n",
       "4  O‘lkamizda iqlim sharoitlari o‘zgarib, sovuq k...  "
      ]
     },
     "execution_count": 56,
     "metadata": {},
     "output_type": "execute_result"
    }
   ],
   "source": [
    "data.head(5)"
   ]
  },
  {
   "cell_type": "code",
   "execution_count": 57,
   "id": "e4ea56dd",
   "metadata": {},
   "outputs": [
    {
     "name": "stdout",
     "output_type": "stream",
     "text": [
      "<class 'pandas.core.frame.DataFrame'>\n",
      "RangeIndex: 990 entries, 0 to 989\n",
      "Data columns (total 3 columns):\n",
      " #   Column           Non-Null Count  Dtype \n",
      "---  ------           --------------  ----- \n",
      " 0   source_url       990 non-null    object\n",
      " 1   access_datetime  990 non-null    object\n",
      " 2   content          989 non-null    object\n",
      "dtypes: object(3)\n",
      "memory usage: 23.3+ KB\n"
     ]
    }
   ],
   "source": [
    "data.info()"
   ]
  },
  {
   "cell_type": "code",
   "execution_count": 58,
   "id": "0cbcd424",
   "metadata": {},
   "outputs": [],
   "source": [
    "data = data.dropna()"
   ]
  },
  {
   "cell_type": "code",
   "execution_count": 45,
   "id": "3bde3c9f",
   "metadata": {},
   "outputs": [],
   "source": [
    "data.rename(columns={'access_datetime ': 'access_datetime', 'content ': 'content'}, inplace=True)"
   ]
  },
  {
   "cell_type": "code",
   "execution_count": 136,
   "id": "c3e8bfbd",
   "metadata": {},
   "outputs": [],
   "source": [
    "# lowercase_ function makes all words in lowercase\n",
    "def lowercase_(df):\n",
    "    df = df.apply(lambda x: x.astype(str).str.lower())\n",
    "    return df\n",
    "\n",
    "lowercase = FunctionTransformer(lowercase_)"
   ]
  },
  {
   "cell_type": "code",
   "execution_count": 137,
   "id": "739d799a",
   "metadata": {},
   "outputs": [],
   "source": [
    "# remove_chars_ function removes all unnecessary chars\n",
    "def remove_chars_(df):\n",
    "    df['content'] = df['content'].map(lambda x: re.sub(r'([0-9]+)', r' \\1 ', x))\n",
    "    df['content'] = df['content'].map(lambda x: re.sub(r\"[^0-9a-z‘’]+\",r\" \", x))\n",
    "    return df\n",
    "\n",
    "remove_chars = FunctionTransformer(remove_chars_)"
   ]
  },
  {
   "cell_type": "code",
   "execution_count": 138,
   "id": "dddd140a",
   "metadata": {},
   "outputs": [],
   "source": [
    "def add_word_column_(df):\n",
    "    values = []\n",
    "    for index in range(len(df)):\n",
    "        values.append(' '.join(df.iloc[index]['content'].split()))\n",
    "    df['word'] = values\n",
    "    return df\n",
    "\n",
    "add_word_column = FunctionTransformer(add_word_column_)"
   ]
  },
  {
   "cell_type": "code",
   "execution_count": 145,
   "id": "6f6335d7",
   "metadata": {},
   "outputs": [],
   "source": [
    "def count_word_(df):\n",
    "    values = []\n",
    "    for index in range(len(df)):\n",
    "        values.append(len(df.iloc[index]['word']))\n",
    "    df['word_count'] = values\n",
    "    return df\n",
    "    \n",
    "count_word = FunctionTransformer(count_word_)"
   ]
  },
  {
   "cell_type": "code",
   "execution_count": 146,
   "id": "f6d26287",
   "metadata": {},
   "outputs": [],
   "source": [
    "pipeline = Pipeline(\n",
    "    [\n",
    "        ('lowercase', lowercase),\n",
    "        ('remove_chars', remove_chars),\n",
    "        ('add_word_column', add_word_column),\n",
    "        ('count_word', count_word)\n",
    "    ]\n",
    ")"
   ]
  },
  {
   "cell_type": "code",
   "execution_count": 150,
   "id": "9c178fda",
   "metadata": {},
   "outputs": [],
   "source": [
    "modified = pipeline.transform(data)"
   ]
  },
  {
   "cell_type": "code",
   "execution_count": 152,
   "id": "8f709295",
   "metadata": {},
   "outputs": [
    {
     "data": {
      "text/html": [
       "<div>\n",
       "<style scoped>\n",
       "    .dataframe tbody tr th:only-of-type {\n",
       "        vertical-align: middle;\n",
       "    }\n",
       "\n",
       "    .dataframe tbody tr th {\n",
       "        vertical-align: top;\n",
       "    }\n",
       "\n",
       "    .dataframe thead th {\n",
       "        text-align: right;\n",
       "    }\n",
       "</style>\n",
       "<table border=\"1\" class=\"dataframe\">\n",
       "  <thead>\n",
       "    <tr style=\"text-align: right;\">\n",
       "      <th></th>\n",
       "      <th>source_url</th>\n",
       "      <th>access_datetime</th>\n",
       "      <th>content</th>\n",
       "      <th>word</th>\n",
       "      <th>word_count</th>\n",
       "    </tr>\n",
       "  </thead>\n",
       "  <tbody>\n",
       "    <tr>\n",
       "      <th>0</th>\n",
       "      <td>https://kun.uz/uz/news/2022/12/01/oz-joniga-qa...</td>\n",
       "      <td>2022-12-01 20:13:46.283372</td>\n",
       "      <td>o‘zbekiston musulmonlari idorasi raisining bir...</td>\n",
       "      <td>o‘zbekiston musulmonlari idorasi raisining bir...</td>\n",
       "      <td>2321</td>\n",
       "    </tr>\n",
       "    <tr>\n",
       "      <th>1</th>\n",
       "      <td>https://kun.uz/uz/news/2022/12/01/kocha-qonunl...</td>\n",
       "      <td>2022-12-01 20:13:47.683332</td>\n",
       "      <td>yaqinda namangan shahridagi mulla qirg‘iz madr...</td>\n",
       "      <td>yaqinda namangan shahridagi mulla qirg‘iz madr...</td>\n",
       "      <td>7813</td>\n",
       "    </tr>\n",
       "    <tr>\n",
       "      <th>2</th>\n",
       "      <td>https://kun.uz/uz/news/2022/12/01/sudlanayotga...</td>\n",
       "      <td>2022-12-01 20:13:49.090811</td>\n",
       "      <td>huquqiy tayanch birlashmasi rahbari a’zam far...</td>\n",
       "      <td>huquqiy tayanch birlashmasi rahbari a’zam farm...</td>\n",
       "      <td>2424</td>\n",
       "    </tr>\n",
       "    <tr>\n",
       "      <th>3</th>\n",
       "      <td>https://kun.uz/uz/news/2022/11/30/ozekspomarka...</td>\n",
       "      <td>2022-12-01 20:13:50.487216</td>\n",
       "      <td>bugun o‘zekspomarkazda o‘zbekiston respublikas...</td>\n",
       "      <td>bugun o‘zekspomarkazda o‘zbekiston respublikas...</td>\n",
       "      <td>1767</td>\n",
       "    </tr>\n",
       "    <tr>\n",
       "      <th>4</th>\n",
       "      <td>https://kun.uz/uz/news/2022/11/30/turonbank-ha...</td>\n",
       "      <td>2022-12-01 20:13:51.970941</td>\n",
       "      <td>o‘lkamizda iqlim sharoitlari o‘zgarib sovuq ku...</td>\n",
       "      <td>o‘lkamizda iqlim sharoitlari o‘zgarib sovuq ku...</td>\n",
       "      <td>3989</td>\n",
       "    </tr>\n",
       "  </tbody>\n",
       "</table>\n",
       "</div>"
      ],
      "text/plain": [
       "                                          source_url  \\\n",
       "0  https://kun.uz/uz/news/2022/12/01/oz-joniga-qa...   \n",
       "1  https://kun.uz/uz/news/2022/12/01/kocha-qonunl...   \n",
       "2  https://kun.uz/uz/news/2022/12/01/sudlanayotga...   \n",
       "3  https://kun.uz/uz/news/2022/11/30/ozekspomarka...   \n",
       "4  https://kun.uz/uz/news/2022/11/30/turonbank-ha...   \n",
       "\n",
       "              access_datetime  \\\n",
       "0  2022-12-01 20:13:46.283372   \n",
       "1  2022-12-01 20:13:47.683332   \n",
       "2  2022-12-01 20:13:49.090811   \n",
       "3  2022-12-01 20:13:50.487216   \n",
       "4  2022-12-01 20:13:51.970941   \n",
       "\n",
       "                                             content  \\\n",
       "0  o‘zbekiston musulmonlari idorasi raisining bir...   \n",
       "1  yaqinda namangan shahridagi mulla qirg‘iz madr...   \n",
       "2   huquqiy tayanch birlashmasi rahbari a’zam far...   \n",
       "3  bugun o‘zekspomarkazda o‘zbekiston respublikas...   \n",
       "4  o‘lkamizda iqlim sharoitlari o‘zgarib sovuq ku...   \n",
       "\n",
       "                                                word  word_count  \n",
       "0  o‘zbekiston musulmonlari idorasi raisining bir...        2321  \n",
       "1  yaqinda namangan shahridagi mulla qirg‘iz madr...        7813  \n",
       "2  huquqiy tayanch birlashmasi rahbari a’zam farm...        2424  \n",
       "3  bugun o‘zekspomarkazda o‘zbekiston respublikas...        1767  \n",
       "4  o‘lkamizda iqlim sharoitlari o‘zgarib sovuq ku...        3989  "
      ]
     },
     "execution_count": 152,
     "metadata": {},
     "output_type": "execute_result"
    }
   ],
   "source": [
    "modified.head(5)"
   ]
  },
  {
   "cell_type": "code",
   "execution_count": 153,
   "id": "1cd79c73",
   "metadata": {},
   "outputs": [],
   "source": [
    "modified.to_csv('modified.csv')"
   ]
  }
 ],
 "metadata": {
  "kernelspec": {
   "display_name": "Python 3 (ipykernel)",
   "language": "python",
   "name": "python3"
  },
  "language_info": {
   "codemirror_mode": {
    "name": "ipython",
    "version": 3
   },
   "file_extension": ".py",
   "mimetype": "text/x-python",
   "name": "python",
   "nbconvert_exporter": "python",
   "pygments_lexer": "ipython3",
   "version": "3.9.12"
  }
 },
 "nbformat": 4,
 "nbformat_minor": 5
}
